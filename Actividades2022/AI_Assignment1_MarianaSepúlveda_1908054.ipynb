{
  "nbformat": 4,
  "nbformat_minor": 0,
  "metadata": {
    "colab": {
      "provenance": []
    },
    "kernelspec": {
      "name": "python3",
      "display_name": "Python 3"
    },
    "language_info": {
      "name": "python"
    }
  },
  "cells": [
    {
      "cell_type": "markdown",
      "source": [
        "\n",
        "\n",
        "> A2: Python Exercises\n",
        "\n",
        "> Mariana Alejandra Sepúlveda Saucedo\n",
        "\n",
        "\n",
        "> Class time: N4\n",
        "\n",
        "\n",
        "\n",
        "\n",
        "\n"
      ],
      "metadata": {
        "id": "zJUp18KNAZRZ"
      }
    },
    {
      "cell_type": "code",
      "execution_count": null,
      "metadata": {
        "colab": {
          "base_uri": "https://localhost:8080/"
        },
        "id": "5mtbkykYtecH",
        "outputId": "bda4d5ea-a2a5-4956-d579-272ca00efd83"
      },
      "outputs": [
        {
          "output_type": "stream",
          "name": "stdout",
          "text": [
            "Enter your name: John\n",
            "No\n"
          ]
        }
      ],
      "source": [
        "name = input(\"Enter your name: \")\n",
        "capname = name.capitalize()\n",
        "if (capname == \"John\"):\n",
        "    print(\"No\")\n",
        "elif (capname == \"Anna\"):\n",
        "    print(\"No\")\n",
        "elif (capname == \"Peter\"):\n",
        "    print(\"No\")\n",
        "else:\n",
        "    print(\"Hi\", name, \"!!\")"
      ]
    },
    {
      "cell_type": "code",
      "source": [
        "mylist = []\n",
        "n = int(input('Enter amount of items:'))\n",
        "for i in range(0,n):\n",
        "  items = input('Enter the items names:')\n",
        "  mylist.append(items)\n",
        "\n",
        "lastobj = mylist[-1]\n",
        "print('last object is:', lastobj)\n",
        "\n",
        "mylist.reverse()\n",
        "\n",
        "print(\"Reversed list:\", (mylist))\n"
      ],
      "metadata": {
        "colab": {
          "base_uri": "https://localhost:8080/"
        },
        "id": "9nDqCkVQugT9",
        "outputId": "18e93098-c84f-4b74-b22a-f031b2064deb"
      },
      "execution_count": null,
      "outputs": [
        {
          "output_type": "stream",
          "name": "stdout",
          "text": [
            "Enter amount of items:3\n",
            "Enter the items names:shampoo\n",
            "Enter the items names:gel\n",
            "Enter the items names:soap\n",
            "last object is: soap\n",
            "Reversed list: ['soap', 'gel', 'shampoo']\n"
          ]
        }
      ]
    },
    {
      "cell_type": "code",
      "source": [
        "def my_function(phrase):\n",
        "  for x in phrase:\n",
        "    print(x)\n",
        "\n",
        "sentence = []\n",
        "print('Enter a phrase')\n",
        "n = int(input('Enter the amount of words in your phrase:'))\n",
        "for i in range(0,n):\n",
        "  sentence.append(str(input()))\n",
        "\n",
        "my_function(sentence)\n"
      ],
      "metadata": {
        "colab": {
          "base_uri": "https://localhost:8080/"
        },
        "id": "X34C0D_T5K2Y",
        "outputId": "de8dd1d7-aaf9-46fc-acd8-7f12daee90c0"
      },
      "execution_count": null,
      "outputs": [
        {
          "output_type": "stream",
          "name": "stdout",
          "text": [
            "Enter a phrase\n",
            "Enter the amount of words in your phrase:3\n",
            "*How*\n",
            "*you*\n",
            "*doin*\n",
            "*How*\n",
            "*you*\n",
            "*doin*\n"
          ]
        }
      ]
    }
  ]
}